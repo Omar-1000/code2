{
 "cells": [
  {
   "cell_type": "markdown",
   "id": "31aeed3b",
   "metadata": {},
   "source": [
    "k\n"
   ]
  },
  {
   "cell_type": "markdown",
   "id": "515b31f9",
   "metadata": {},
   "source": [
    "### o_sum=0\n",
    "e_sum=0\n",
    "p_sum=0\n",
    "for i in range(10) :\n",
    "    x=int(input(\"please enter positive numbers :- \"))\n",
    "    if x <=0 :\n",
    "        x=int(input(\"error , positive only\"))\n",
    "    for i in range (2,x) :\n",
    "        if x == 1:\n",
    "            pass\n",
    "        elif x % i==0 :\n",
    "            p_sum+=x\n",
    "                \n",
    "    if x%2==0 :\n",
    "        e_sum+=x\n",
    "    else:\n",
    "        o_sum+=x\n",
    "    \n",
    "print(\"sum of odd\" , o_sum)\n",
    "print(\"sum of even\" , e_sum)\n",
    "print(\"sum of prime\" , p_sum)"
   ]
  },
  {
   "cell_type": "code",
   "execution_count": 27,
   "id": "dda0b771",
   "metadata": {},
   "outputs": [
    {
     "name": "stdout",
     "output_type": "stream",
     "text": [
      "please enter positive numbers :- 3\n",
      "please enter positive numbers :- 3\n",
      "please enter positive numbers :- 3\n",
      "please enter positive numbers :- 3\n",
      "please enter positive numbers :- 3\n",
      "please enter positive numbers :- 3\n",
      "please enter positive numbers :- 3\n",
      "please enter positive numbers :- 3\n",
      "please enter positive numbers :- 3\n",
      "please enter positive numbers :- 3\n",
      "sum of odd 30\n",
      "sum of even 0\n",
      "sum of prime 30\n"
     ]
    }
   ],
   "source": [
    "o_sum=0\n",
    "e_sum=0\n",
    "p_sum=0\n",
    "\n",
    "for i in range(10) : \n",
    "    x=int(input(\"please enter positive numbers :- \")) \n",
    "    if x <=0 : \n",
    "        x=int(input(\"error , positive only\")) \n",
    "    p_flag=False\n",
    "    for j in range (2,x) :\n",
    "        if x ==1: \n",
    "            break\n",
    "        else: \n",
    "            \n",
    "            if x % j ==0 : \n",
    "                p_flag=True\n",
    "    if p_flag :\n",
    "        pass\n",
    "    else:\n",
    "        p_sum+=x\n",
    "            \n",
    "\n",
    "    if x%2==0 :\n",
    "        e_sum+=x\n",
    "    else:\n",
    "        o_sum+=x\n",
    "print(\"sum of odd\" , o_sum)\n",
    "print(\"sum of even\" , e_sum) \n",
    "print(\"sum of prime\" , p_sum)\n"
   ]
  },
  {
   "cell_type": "code",
   "execution_count": null,
   "id": "03b14e14",
   "metadata": {},
   "outputs": [],
   "source": []
  },
  {
   "cell_type": "code",
   "execution_count": 19,
   "id": "db56bbed",
   "metadata": {},
   "outputs": [
    {
     "name": "stdout",
     "output_type": "stream",
     "text": [
      "2\n",
      "3\n",
      "4\n"
     ]
    }
   ],
   "source": [
    "for i in range (2,5):\n",
    "    print(i)"
   ]
  },
  {
   "cell_type": "code",
   "execution_count": 29,
   "id": "ae44b6ae",
   "metadata": {},
   "outputs": [
    {
     "name": "stdout",
     "output_type": "stream",
     "text": [
      "Enter a positive number: 2\n",
      "Enter a positive number: 4\n",
      "Enter a positive number: -5\n",
      "Please enter a positive number.\n",
      "Enter a positive number: 4\n",
      "Enter a positive number: 3\n",
      "Enter a positive number: 6\n",
      "Enter a positive number: 8\n",
      "Enter a positive number: 9\n",
      "Enter a positive number: 1\n",
      "Enter a positive number: 1\n",
      "Enter a positive number: 1\n",
      "Sum of even numbers: 24\n",
      "Sum of odd numbers: 15\n",
      "Sum of prime numbers: 5\n"
     ]
    }
   ],
   "source": [
    "even_sum = 0\n",
    "odd_sum = 0\n",
    "prime_sum = 0\n",
    "count = 0\n",
    "\n",
    "while count < 10:\n",
    "    num = int(input(\"Enter a positive number: \"))\n",
    "    if num <= 0:\n",
    "        print(\"Please enter a positive number.\")\n",
    "        continue\n",
    "\n",
    "    if num % 2 == 0:\n",
    "        even_sum += num\n",
    "    else:\n",
    "        odd_sum += num\n",
    "\n",
    "    is_prime = True\n",
    "    if num < 2:\n",
    "        is_prime = False\n",
    "    else:\n",
    "        for i in range(2, num):\n",
    "            if num % i == 0:\n",
    "                is_prime = False\n",
    "                break\n",
    "\n",
    "    if is_prime:\n",
    "        prime_sum += num\n",
    "\n",
    "    count += 1\n",
    "\n",
    "print(\"Sum of even numbers:\", even_sum)\n",
    "print(\"Sum of odd numbers:\", odd_sum)\n",
    "print(\"Sum of prime numbers:\", prime_sum)"
   ]
  }
 ],
 "metadata": {
  "kernelspec": {
   "display_name": "Python 3 (ipykernel)",
   "language": "python",
   "name": "python3"
  },
  "language_info": {
   "codemirror_mode": {
    "name": "ipython",
    "version": 3
   },
   "file_extension": ".py",
   "mimetype": "text/x-python",
   "name": "python",
   "nbconvert_exporter": "python",
   "pygments_lexer": "ipython3",
   "version": "3.11.7"
  }
 },
 "nbformat": 4,
 "nbformat_minor": 5
}
